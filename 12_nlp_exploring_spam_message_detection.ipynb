{
  "metadata": {
    "kernelspec": {
      "language": "python",
      "display_name": "Python 3",
      "name": "python3"
    },
    "language_info": {
      "pygments_lexer": "ipython3",
      "nbconvert_exporter": "python",
      "version": "3.6.4",
      "file_extension": ".py",
      "codemirror_mode": {
        "name": "ipython",
        "version": 3
      },
      "name": "python",
      "mimetype": "text/x-python"
    },
    "colab": {
      "provenance": []
    }
  },
  "nbformat_minor": 0,
  "nbformat": 4,
  "cells": [
    {
      "cell_type": "markdown",
      "source": [
        "# Introducción"
      ],
      "metadata": {
        "id": "1_0qRT81G7Sr"
      }
    },
    {
      "cell_type": "markdown",
      "source": [
        "## Detección de mensajes spam\n",
        "Aprendizaje automático (ML) para diferenciar entre mensajes legítimos y spam."
      ],
      "metadata": {
        "id": "K4XXBe4sG7Ss"
      }
    },
    {
      "cell_type": "markdown",
      "source": [
        "Pasos que vamos a seguir:\n",
        "\n",
        "* Pasar el texto a minúsculas\n",
        "* Tokenizar\n",
        "* Eliminar puntuación\n",
        "* Eliminar palabras vacías\n",
        "* Lematizar\n",
        "\n",
        "Después de eso, \"vectorizaremos\" nuestros datos en un conjunto de números para que los modelos de aprendizaje automático puedan aprender de ellos.\n",
        "\n",
        "* Vectorización (TfidfVectorizer)"
      ],
      "metadata": {
        "id": "xTUn08MEG7St"
      }
    },
    {
      "cell_type": "markdown",
      "source": [
        "## Imports"
      ],
      "metadata": {
        "id": "kQ8loQi6G7St"
      }
    },
    {
      "cell_type": "code",
      "source": [
        "import warnings\n",
        "warnings.filterwarnings(\"ignore\")\n",
        "\n",
        "import numpy as np\n",
        "import pandas as pd\n",
        "import seaborn as sns\n",
        "import matplotlib.pyplot as plt\n",
        "\n",
        "import nltk\n",
        "import string\n",
        "from nltk.tokenize import word_tokenize\n",
        "import re\n",
        "from nltk.corpus import stopwords\n",
        "from nltk.stem.wordnet import WordNetLemmatizer\n",
        "from sklearn.model_selection import train_test_split\n",
        "\n",
        "from sklearn.feature_extraction.text import TfidfVectorizer\n",
        "from sklearn.linear_model import LogisticRegression\n",
        "from sklearn.tree import DecisionTreeClassifier\n",
        "from sklearn.ensemble import RandomForestClassifier\n",
        "import lightgbm as ltb\n",
        "from sklearn.naive_bayes import GaussianNB\n",
        "from sklearn.svm import SVC\n",
        "from sklearn.metrics import accuracy_score"
      ],
      "metadata": {
        "_kg_hide-output": false,
        "execution": {
          "iopub.status.busy": "2023-08-26T01:38:04.714311Z",
          "iopub.execute_input": "2023-08-26T01:38:04.714754Z",
          "iopub.status.idle": "2023-08-26T01:38:04.724045Z",
          "shell.execute_reply.started": "2023-08-26T01:38:04.714718Z",
          "shell.execute_reply": "2023-08-26T01:38:04.722505Z"
        },
        "trusted": true,
        "id": "OxrFzdrFG7St"
      },
      "execution_count": null,
      "outputs": []
    },
    {
      "cell_type": "code",
      "source": [
        "nltk.download('popular')"
      ],
      "metadata": {
        "colab": {
          "base_uri": "https://localhost:8080/"
        },
        "id": "VP-45N1hJFpZ",
        "outputId": "7b5abfc5-99bd-4b4f-a37e-916ff2fbc504"
      },
      "execution_count": null,
      "outputs": [
        {
          "output_type": "stream",
          "name": "stderr",
          "text": [
            "[nltk_data] Downloading collection 'popular'\n",
            "[nltk_data]    | \n",
            "[nltk_data]    | Downloading package cmudict to /root/nltk_data...\n",
            "[nltk_data]    |   Unzipping corpora/cmudict.zip.\n",
            "[nltk_data]    | Downloading package gazetteers to /root/nltk_data...\n",
            "[nltk_data]    |   Unzipping corpora/gazetteers.zip.\n",
            "[nltk_data]    | Downloading package genesis to /root/nltk_data...\n",
            "[nltk_data]    |   Unzipping corpora/genesis.zip.\n",
            "[nltk_data]    | Downloading package gutenberg to /root/nltk_data...\n",
            "[nltk_data]    |   Unzipping corpora/gutenberg.zip.\n",
            "[nltk_data]    | Downloading package inaugural to /root/nltk_data...\n",
            "[nltk_data]    |   Unzipping corpora/inaugural.zip.\n",
            "[nltk_data]    | Downloading package movie_reviews to\n",
            "[nltk_data]    |     /root/nltk_data...\n",
            "[nltk_data]    |   Unzipping corpora/movie_reviews.zip.\n",
            "[nltk_data]    | Downloading package names to /root/nltk_data...\n",
            "[nltk_data]    |   Unzipping corpora/names.zip.\n",
            "[nltk_data]    | Downloading package shakespeare to /root/nltk_data...\n",
            "[nltk_data]    |   Unzipping corpora/shakespeare.zip.\n",
            "[nltk_data]    | Downloading package stopwords to /root/nltk_data...\n",
            "[nltk_data]    |   Unzipping corpora/stopwords.zip.\n",
            "[nltk_data]    | Downloading package treebank to /root/nltk_data...\n",
            "[nltk_data]    |   Unzipping corpora/treebank.zip.\n",
            "[nltk_data]    | Downloading package twitter_samples to\n",
            "[nltk_data]    |     /root/nltk_data...\n",
            "[nltk_data]    |   Unzipping corpora/twitter_samples.zip.\n",
            "[nltk_data]    | Downloading package omw to /root/nltk_data...\n",
            "[nltk_data]    | Downloading package omw-1.4 to /root/nltk_data...\n",
            "[nltk_data]    | Downloading package wordnet to /root/nltk_data...\n",
            "[nltk_data]    | Downloading package wordnet2021 to /root/nltk_data...\n",
            "[nltk_data]    | Downloading package wordnet31 to /root/nltk_data...\n",
            "[nltk_data]    | Downloading package wordnet_ic to /root/nltk_data...\n",
            "[nltk_data]    |   Unzipping corpora/wordnet_ic.zip.\n",
            "[nltk_data]    | Downloading package words to /root/nltk_data...\n",
            "[nltk_data]    |   Unzipping corpora/words.zip.\n",
            "[nltk_data]    | Downloading package maxent_ne_chunker to\n",
            "[nltk_data]    |     /root/nltk_data...\n",
            "[nltk_data]    |   Unzipping chunkers/maxent_ne_chunker.zip.\n",
            "[nltk_data]    | Downloading package punkt to /root/nltk_data...\n",
            "[nltk_data]    |   Unzipping tokenizers/punkt.zip.\n",
            "[nltk_data]    | Downloading package snowball_data to\n",
            "[nltk_data]    |     /root/nltk_data...\n",
            "[nltk_data]    | Downloading package averaged_perceptron_tagger to\n",
            "[nltk_data]    |     /root/nltk_data...\n",
            "[nltk_data]    |   Unzipping taggers/averaged_perceptron_tagger.zip.\n",
            "[nltk_data]    | \n",
            "[nltk_data]  Done downloading collection popular\n"
          ]
        },
        {
          "output_type": "execute_result",
          "data": {
            "text/plain": [
              "True"
            ]
          },
          "metadata": {},
          "execution_count": 2
        }
      ]
    },
    {
      "cell_type": "markdown",
      "source": [
        "## Los datos"
      ],
      "metadata": {
        "id": "n_oQkl5NG7Su"
      }
    },
    {
      "cell_type": "code",
      "source": [
        "from google.colab import drive\n",
        "drive.mount('/content/drive')"
      ],
      "metadata": {
        "colab": {
          "base_uri": "https://localhost:8080/"
        },
        "id": "xjLdOyzhH58n",
        "outputId": "3c30a975-a0bc-4359-d267-3ec555858151"
      },
      "execution_count": null,
      "outputs": [
        {
          "output_type": "stream",
          "name": "stdout",
          "text": [
            "Mounted at /content/drive\n"
          ]
        }
      ]
    },
    {
      "cell_type": "code",
      "source": [
        "data = pd.read_csv(\"/content/drive/MyDrive/Colab Notebooks/IA - Programa Posgrado/Lesson01/nlp - SPAM text message data.csv\")\n",
        "data.head()"
      ],
      "metadata": {
        "execution": {
          "iopub.status.busy": "2023-08-26T01:38:04.727098Z",
          "iopub.execute_input": "2023-08-26T01:38:04.727516Z",
          "iopub.status.idle": "2023-08-26T01:38:04.764603Z",
          "shell.execute_reply.started": "2023-08-26T01:38:04.727480Z",
          "shell.execute_reply": "2023-08-26T01:38:04.763413Z"
        },
        "trusted": true,
        "colab": {
          "base_uri": "https://localhost:8080/",
          "height": 206
        },
        "id": "AnMWJ10cG7Su",
        "outputId": "90854d1a-d386-4a2b-9fac-18158e8283a6"
      },
      "execution_count": null,
      "outputs": [
        {
          "output_type": "execute_result",
          "data": {
            "text/plain": [
              "  Category                                            Message\n",
              "0      ham  Go until jurong point, crazy.. Available only ...\n",
              "1      ham                      Ok lar... Joking wif u oni...\n",
              "2     spam  Free entry in 2 a wkly comp to win FA Cup fina...\n",
              "3      ham  U dun say so early hor... U c already then say...\n",
              "4      ham  Nah I don't think he goes to usf, he lives aro..."
            ],
            "text/html": [
              "\n",
              "  <div id=\"df-1cde1032-e3f7-435f-bdde-d3a3804737df\" class=\"colab-df-container\">\n",
              "    <div>\n",
              "<style scoped>\n",
              "    .dataframe tbody tr th:only-of-type {\n",
              "        vertical-align: middle;\n",
              "    }\n",
              "\n",
              "    .dataframe tbody tr th {\n",
              "        vertical-align: top;\n",
              "    }\n",
              "\n",
              "    .dataframe thead th {\n",
              "        text-align: right;\n",
              "    }\n",
              "</style>\n",
              "<table border=\"1\" class=\"dataframe\">\n",
              "  <thead>\n",
              "    <tr style=\"text-align: right;\">\n",
              "      <th></th>\n",
              "      <th>Category</th>\n",
              "      <th>Message</th>\n",
              "    </tr>\n",
              "  </thead>\n",
              "  <tbody>\n",
              "    <tr>\n",
              "      <th>0</th>\n",
              "      <td>ham</td>\n",
              "      <td>Go until jurong point, crazy.. Available only ...</td>\n",
              "    </tr>\n",
              "    <tr>\n",
              "      <th>1</th>\n",
              "      <td>ham</td>\n",
              "      <td>Ok lar... Joking wif u oni...</td>\n",
              "    </tr>\n",
              "    <tr>\n",
              "      <th>2</th>\n",
              "      <td>spam</td>\n",
              "      <td>Free entry in 2 a wkly comp to win FA Cup fina...</td>\n",
              "    </tr>\n",
              "    <tr>\n",
              "      <th>3</th>\n",
              "      <td>ham</td>\n",
              "      <td>U dun say so early hor... U c already then say...</td>\n",
              "    </tr>\n",
              "    <tr>\n",
              "      <th>4</th>\n",
              "      <td>ham</td>\n",
              "      <td>Nah I don't think he goes to usf, he lives aro...</td>\n",
              "    </tr>\n",
              "  </tbody>\n",
              "</table>\n",
              "</div>\n",
              "    <div class=\"colab-df-buttons\">\n",
              "\n",
              "  <div class=\"colab-df-container\">\n",
              "    <button class=\"colab-df-convert\" onclick=\"convertToInteractive('df-1cde1032-e3f7-435f-bdde-d3a3804737df')\"\n",
              "            title=\"Convert this dataframe to an interactive table.\"\n",
              "            style=\"display:none;\">\n",
              "\n",
              "  <svg xmlns=\"http://www.w3.org/2000/svg\" height=\"24px\" viewBox=\"0 -960 960 960\">\n",
              "    <path d=\"M120-120v-720h720v720H120Zm60-500h600v-160H180v160Zm220 220h160v-160H400v160Zm0 220h160v-160H400v160ZM180-400h160v-160H180v160Zm440 0h160v-160H620v160ZM180-180h160v-160H180v160Zm440 0h160v-160H620v160Z\"/>\n",
              "  </svg>\n",
              "    </button>\n",
              "\n",
              "  <style>\n",
              "    .colab-df-container {\n",
              "      display:flex;\n",
              "      gap: 12px;\n",
              "    }\n",
              "\n",
              "    .colab-df-convert {\n",
              "      background-color: #E8F0FE;\n",
              "      border: none;\n",
              "      border-radius: 50%;\n",
              "      cursor: pointer;\n",
              "      display: none;\n",
              "      fill: #1967D2;\n",
              "      height: 32px;\n",
              "      padding: 0 0 0 0;\n",
              "      width: 32px;\n",
              "    }\n",
              "\n",
              "    .colab-df-convert:hover {\n",
              "      background-color: #E2EBFA;\n",
              "      box-shadow: 0px 1px 2px rgba(60, 64, 67, 0.3), 0px 1px 3px 1px rgba(60, 64, 67, 0.15);\n",
              "      fill: #174EA6;\n",
              "    }\n",
              "\n",
              "    .colab-df-buttons div {\n",
              "      margin-bottom: 4px;\n",
              "    }\n",
              "\n",
              "    [theme=dark] .colab-df-convert {\n",
              "      background-color: #3B4455;\n",
              "      fill: #D2E3FC;\n",
              "    }\n",
              "\n",
              "    [theme=dark] .colab-df-convert:hover {\n",
              "      background-color: #434B5C;\n",
              "      box-shadow: 0px 1px 3px 1px rgba(0, 0, 0, 0.15);\n",
              "      filter: drop-shadow(0px 1px 2px rgba(0, 0, 0, 0.3));\n",
              "      fill: #FFFFFF;\n",
              "    }\n",
              "  </style>\n",
              "\n",
              "    <script>\n",
              "      const buttonEl =\n",
              "        document.querySelector('#df-1cde1032-e3f7-435f-bdde-d3a3804737df button.colab-df-convert');\n",
              "      buttonEl.style.display =\n",
              "        google.colab.kernel.accessAllowed ? 'block' : 'none';\n",
              "\n",
              "      async function convertToInteractive(key) {\n",
              "        const element = document.querySelector('#df-1cde1032-e3f7-435f-bdde-d3a3804737df');\n",
              "        const dataTable =\n",
              "          await google.colab.kernel.invokeFunction('convertToInteractive',\n",
              "                                                    [key], {});\n",
              "        if (!dataTable) return;\n",
              "\n",
              "        const docLinkHtml = 'Like what you see? Visit the ' +\n",
              "          '<a target=\"_blank\" href=https://colab.research.google.com/notebooks/data_table.ipynb>data table notebook</a>'\n",
              "          + ' to learn more about interactive tables.';\n",
              "        element.innerHTML = '';\n",
              "        dataTable['output_type'] = 'display_data';\n",
              "        await google.colab.output.renderOutput(dataTable, element);\n",
              "        const docLink = document.createElement('div');\n",
              "        docLink.innerHTML = docLinkHtml;\n",
              "        element.appendChild(docLink);\n",
              "      }\n",
              "    </script>\n",
              "  </div>\n",
              "\n",
              "\n",
              "<div id=\"df-a49e55c3-9fc0-43f0-904f-bb73c7d20cd3\">\n",
              "  <button class=\"colab-df-quickchart\" onclick=\"quickchart('df-a49e55c3-9fc0-43f0-904f-bb73c7d20cd3')\"\n",
              "            title=\"Suggest charts.\"\n",
              "            style=\"display:none;\">\n",
              "\n",
              "<svg xmlns=\"http://www.w3.org/2000/svg\" height=\"24px\"viewBox=\"0 0 24 24\"\n",
              "     width=\"24px\">\n",
              "    <g>\n",
              "        <path d=\"M19 3H5c-1.1 0-2 .9-2 2v14c0 1.1.9 2 2 2h14c1.1 0 2-.9 2-2V5c0-1.1-.9-2-2-2zM9 17H7v-7h2v7zm4 0h-2V7h2v10zm4 0h-2v-4h2v4z\"/>\n",
              "    </g>\n",
              "</svg>\n",
              "  </button>\n",
              "\n",
              "<style>\n",
              "  .colab-df-quickchart {\n",
              "      --bg-color: #E8F0FE;\n",
              "      --fill-color: #1967D2;\n",
              "      --hover-bg-color: #E2EBFA;\n",
              "      --hover-fill-color: #174EA6;\n",
              "      --disabled-fill-color: #AAA;\n",
              "      --disabled-bg-color: #DDD;\n",
              "  }\n",
              "\n",
              "  [theme=dark] .colab-df-quickchart {\n",
              "      --bg-color: #3B4455;\n",
              "      --fill-color: #D2E3FC;\n",
              "      --hover-bg-color: #434B5C;\n",
              "      --hover-fill-color: #FFFFFF;\n",
              "      --disabled-bg-color: #3B4455;\n",
              "      --disabled-fill-color: #666;\n",
              "  }\n",
              "\n",
              "  .colab-df-quickchart {\n",
              "    background-color: var(--bg-color);\n",
              "    border: none;\n",
              "    border-radius: 50%;\n",
              "    cursor: pointer;\n",
              "    display: none;\n",
              "    fill: var(--fill-color);\n",
              "    height: 32px;\n",
              "    padding: 0;\n",
              "    width: 32px;\n",
              "  }\n",
              "\n",
              "  .colab-df-quickchart:hover {\n",
              "    background-color: var(--hover-bg-color);\n",
              "    box-shadow: 0 1px 2px rgba(60, 64, 67, 0.3), 0 1px 3px 1px rgba(60, 64, 67, 0.15);\n",
              "    fill: var(--button-hover-fill-color);\n",
              "  }\n",
              "\n",
              "  .colab-df-quickchart-complete:disabled,\n",
              "  .colab-df-quickchart-complete:disabled:hover {\n",
              "    background-color: var(--disabled-bg-color);\n",
              "    fill: var(--disabled-fill-color);\n",
              "    box-shadow: none;\n",
              "  }\n",
              "\n",
              "  .colab-df-spinner {\n",
              "    border: 2px solid var(--fill-color);\n",
              "    border-color: transparent;\n",
              "    border-bottom-color: var(--fill-color);\n",
              "    animation:\n",
              "      spin 1s steps(1) infinite;\n",
              "  }\n",
              "\n",
              "  @keyframes spin {\n",
              "    0% {\n",
              "      border-color: transparent;\n",
              "      border-bottom-color: var(--fill-color);\n",
              "      border-left-color: var(--fill-color);\n",
              "    }\n",
              "    20% {\n",
              "      border-color: transparent;\n",
              "      border-left-color: var(--fill-color);\n",
              "      border-top-color: var(--fill-color);\n",
              "    }\n",
              "    30% {\n",
              "      border-color: transparent;\n",
              "      border-left-color: var(--fill-color);\n",
              "      border-top-color: var(--fill-color);\n",
              "      border-right-color: var(--fill-color);\n",
              "    }\n",
              "    40% {\n",
              "      border-color: transparent;\n",
              "      border-right-color: var(--fill-color);\n",
              "      border-top-color: var(--fill-color);\n",
              "    }\n",
              "    60% {\n",
              "      border-color: transparent;\n",
              "      border-right-color: var(--fill-color);\n",
              "    }\n",
              "    80% {\n",
              "      border-color: transparent;\n",
              "      border-right-color: var(--fill-color);\n",
              "      border-bottom-color: var(--fill-color);\n",
              "    }\n",
              "    90% {\n",
              "      border-color: transparent;\n",
              "      border-bottom-color: var(--fill-color);\n",
              "    }\n",
              "  }\n",
              "</style>\n",
              "\n",
              "  <script>\n",
              "    async function quickchart(key) {\n",
              "      const quickchartButtonEl =\n",
              "        document.querySelector('#' + key + ' button');\n",
              "      quickchartButtonEl.disabled = true;  // To prevent multiple clicks.\n",
              "      quickchartButtonEl.classList.add('colab-df-spinner');\n",
              "      try {\n",
              "        const charts = await google.colab.kernel.invokeFunction(\n",
              "            'suggestCharts', [key], {});\n",
              "      } catch (error) {\n",
              "        console.error('Error during call to suggestCharts:', error);\n",
              "      }\n",
              "      quickchartButtonEl.classList.remove('colab-df-spinner');\n",
              "      quickchartButtonEl.classList.add('colab-df-quickchart-complete');\n",
              "    }\n",
              "    (() => {\n",
              "      let quickchartButtonEl =\n",
              "        document.querySelector('#df-a49e55c3-9fc0-43f0-904f-bb73c7d20cd3 button');\n",
              "      quickchartButtonEl.style.display =\n",
              "        google.colab.kernel.accessAllowed ? 'block' : 'none';\n",
              "    })();\n",
              "  </script>\n",
              "</div>\n",
              "    </div>\n",
              "  </div>\n"
            ]
          },
          "metadata": {},
          "execution_count": 4
        }
      ]
    },
    {
      "cell_type": "code",
      "source": [
        "data.info()"
      ],
      "metadata": {
        "execution": {
          "iopub.status.busy": "2023-08-26T01:38:04.766958Z",
          "iopub.execute_input": "2023-08-26T01:38:04.767842Z",
          "iopub.status.idle": "2023-08-26T01:38:04.784922Z",
          "shell.execute_reply.started": "2023-08-26T01:38:04.767794Z",
          "shell.execute_reply": "2023-08-26T01:38:04.783925Z"
        },
        "trusted": true,
        "colab": {
          "base_uri": "https://localhost:8080/"
        },
        "id": "RqaNIF7ZG7Su",
        "outputId": "439d1140-6c99-4349-9d10-27fef9be945f"
      },
      "execution_count": null,
      "outputs": [
        {
          "output_type": "stream",
          "name": "stdout",
          "text": [
            "<class 'pandas.core.frame.DataFrame'>\n",
            "RangeIndex: 5572 entries, 0 to 5571\n",
            "Data columns (total 2 columns):\n",
            " #   Column    Non-Null Count  Dtype \n",
            "---  ------    --------------  ----- \n",
            " 0   Category  5572 non-null   object\n",
            " 1   Message   5572 non-null   object\n",
            "dtypes: object(2)\n",
            "memory usage: 87.2+ KB\n"
          ]
        }
      ]
    },
    {
      "cell_type": "markdown",
      "source": [
        "Tenemos un conjunto de datos simple con 5572 observaciones sin **valores faltantes**. También tenemos una característica o feature **(Message)** y un objetivo **(Category)**"
      ],
      "metadata": {
        "id": "8Xyhlo7-G7Sv"
      }
    },
    {
      "cell_type": "code",
      "source": [
        "sns.countplot(x=\"Category\",data=data, palette=\"Set2\")"
      ],
      "metadata": {
        "execution": {
          "iopub.status.busy": "2023-08-26T01:38:04.786084Z",
          "iopub.execute_input": "2023-08-26T01:38:04.787111Z",
          "iopub.status.idle": "2023-08-26T01:38:05.026636Z",
          "shell.execute_reply.started": "2023-08-26T01:38:04.787074Z",
          "shell.execute_reply": "2023-08-26T01:38:05.025330Z"
        },
        "trusted": true,
        "colab": {
          "base_uri": "https://localhost:8080/",
          "height": 467
        },
        "id": "RaMqZAuzG7Sv",
        "outputId": "33a9985d-93e1-4eda-c29f-240b7c65ea21"
      },
      "execution_count": null,
      "outputs": [
        {
          "output_type": "execute_result",
          "data": {
            "text/plain": [
              "<Axes: xlabel='Category', ylabel='count'>"
            ]
          },
          "metadata": {},
          "execution_count": 6
        },
        {
          "output_type": "display_data",
          "data": {
            "text/plain": [
              "<Figure size 640x480 with 1 Axes>"
            ],
            "image/png": "[encoded data removed]"
          },
          "metadata": {}
        }
      ]
    },
    {
      "cell_type": "markdown",
      "source": [
        "Podemos ver claramente que la mayoría de nuestros mensajes son ham, es decir, mensajes legítimos. Esto significa que nuestro conjunto de datos está desequilibrado, pero tiene sentido porque la mayoría de los mensajes en general son **mensajes ham**. Sin embargo, más adelante equilibraremos este conjunto de datos."
      ],
      "metadata": {
        "id": "Iw84FhVPG7Sv"
      }
    },
    {
      "cell_type": "markdown",
      "source": [
        "## Limpieza y preprocesamiento de datos"
      ],
      "metadata": {
        "id": "KyyZbiXbG7Sv"
      }
    },
    {
      "cell_type": "markdown",
      "source": [
        "El preprocesamiento de datos de texto constituye una fase preliminar vital en el procesamiento del lenguaje natural (PLN). Su esencia radica en eliminar perturbaciones, irregularidades y contenidos superfluos del texto, mejorando así la integridad de los datos para su posterior análisis."
      ],
      "metadata": {
        "id": "lPNWgjSYG7Sv"
      }
    },
    {
      "cell_type": "markdown",
      "source": [
        "### Eliminar puntuación y palabras vacías (Stopwords)"
      ],
      "metadata": {
        "id": "zSoe_KWrG7Sw"
      }
    },
    {
      "cell_type": "code",
      "source": [
        "def cleaning (text):\n",
        "    text = text.lower()\n",
        "    text =  re.sub(r'@\\S+', '',text)\n",
        "    text =  re.sub(r'http\\S+', '',text) # remove urls\n",
        "    text =  re.sub(r'pic.\\S+', '',text)\n",
        "    text =  re.sub(r\"[^a-zA-ZáéíóúÁÉÍÓÚ']\", ' ',text) # only keeps characters\n",
        "    text =  re.sub(r'\\s+[a-zA-ZáéíóúÁÉÍÓÚ]\\s+', ' ', text+' ')  # keep words with length>1 only\n",
        "    text = \"\".join([i for i in text if i not in string.punctuation])\n",
        "    words = word_tokenize(text)\n",
        "    stopwords = nltk.corpus.stopwords.words('english')   # remove stopwords\n",
        "    text = \" \".join([i for i in words if i not in stopwords])\n",
        "    text= re.sub(\"\\s[\\s]+\", \" \",text).strip()\n",
        "    text= re.sub(\"\\s[\\s]+\", \" \",text).strip() # remove repeated/leading/trailing spaces\n",
        "    return text"
      ],
      "metadata": {
        "execution": {
          "iopub.status.busy": "2023-08-26T01:38:05.030843Z",
          "iopub.execute_input": "2023-08-26T01:38:05.031210Z",
          "iopub.status.idle": "2023-08-26T01:38:05.040728Z",
          "shell.execute_reply.started": "2023-08-26T01:38:05.031176Z",
          "shell.execute_reply": "2023-08-26T01:38:05.039320Z"
        },
        "trusted": true,
        "id": "u0Z7dgJaG7Sw"
      },
      "execution_count": null,
      "outputs": []
    },
    {
      "cell_type": "code",
      "source": [
        "data[\"Message\"]=data[\"Message\"].apply(cleaning)"
      ],
      "metadata": {
        "execution": {
          "iopub.status.busy": "2023-08-26T01:38:05.042396Z",
          "iopub.execute_input": "2023-08-26T01:38:05.042861Z",
          "iopub.status.idle": "2023-08-26T01:38:07.605154Z",
          "shell.execute_reply.started": "2023-08-26T01:38:05.042816Z",
          "shell.execute_reply": "2023-08-26T01:38:07.604046Z"
        },
        "trusted": true,
        "id": "n73t1AgaG7Sw"
      },
      "execution_count": null,
      "outputs": []
    },
    {
      "cell_type": "markdown",
      "source": [
        "### Lematización (Lemmatization)"
      ],
      "metadata": {
        "id": "jro51bwmG7Sw"
      }
    },
    {
      "cell_type": "markdown",
      "source": [
        "La lematización sirve como un método de preprocesamiento de texto dentro del ámbito de los modelos de procesamiento del lenguaje natural. Su propósito es deconstruir las palabras hasta su raíz fundamental, facilitando el reconocimiento de semejanzas y similitudes."
      ],
      "metadata": {
        "id": "sGN4v3tPG7Sw"
      }
    },
    {
      "cell_type": "code",
      "source": [
        "def lemm(data):\n",
        "    wordnet = WordNetLemmatizer()\n",
        "    lemmanized = []\n",
        "    for i in range(len(data)):\n",
        "        lemmed = []\n",
        "        words = word_tokenize(data['Message'].iloc[i])\n",
        "        for w in words:\n",
        "            lemmed.append(wordnet.lemmatize(w))\n",
        "        lemmanized.append(lemmed)\n",
        "\n",
        "    data['lemmanized'] = lemmanized\n",
        "    data['text'] = data['lemmanized'].apply(' '.join)\n",
        "    data=data.drop(\"lemmanized\",axis=1)\n",
        "    data=data.drop(\"Message\",axis=1)\n",
        "    return data"
      ],
      "metadata": {
        "execution": {
          "iopub.status.busy": "2023-08-26T01:38:07.606756Z",
          "iopub.execute_input": "2023-08-26T01:38:07.607204Z",
          "iopub.status.idle": "2023-08-26T01:38:07.615368Z",
          "shell.execute_reply.started": "2023-08-26T01:38:07.607161Z",
          "shell.execute_reply": "2023-08-26T01:38:07.614200Z"
        },
        "trusted": true,
        "id": "leb39X3iG7Sw"
      },
      "execution_count": null,
      "outputs": []
    },
    {
      "cell_type": "code",
      "source": [
        "data = lemm(data)"
      ],
      "metadata": {
        "execution": {
          "iopub.status.busy": "2023-08-26T01:38:07.617332Z",
          "iopub.execute_input": "2023-08-26T01:38:07.617807Z",
          "iopub.status.idle": "2023-08-26T01:38:09.070569Z",
          "shell.execute_reply.started": "2023-08-26T01:38:07.617765Z",
          "shell.execute_reply": "2023-08-26T01:38:09.069537Z"
        },
        "trusted": true,
        "id": "Ye005naVG7Sx"
      },
      "execution_count": null,
      "outputs": []
    },
    {
      "cell_type": "markdown",
      "source": [
        "### Codificación (Encoding)"
      ],
      "metadata": {
        "id": "Uqq2ni8PG7Sx"
      }
    },
    {
      "cell_type": "markdown",
      "source": [
        "No vamos a dejar el objetivo **Category** como un tipo de objeto porque no podemos introducirlo en modelos de aprendizaje automático, para eso usaremos un mapa para codificar sus valores."
      ],
      "metadata": {
        "id": "-fAk7cESG7Sx"
      }
    },
    {
      "cell_type": "code",
      "source": [
        "mesg = {\"ham\":0,\"spam\":1}\n",
        "data[\"Category\"]=data[\"Category\"].map(mesg)"
      ],
      "metadata": {
        "execution": {
          "iopub.status.busy": "2023-08-26T01:38:09.071907Z",
          "iopub.execute_input": "2023-08-26T01:38:09.072228Z",
          "iopub.status.idle": "2023-08-26T01:38:09.080555Z",
          "shell.execute_reply.started": "2023-08-26T01:38:09.072199Z",
          "shell.execute_reply": "2023-08-26T01:38:09.079253Z"
        },
        "trusted": true,
        "id": "lljnZ4ybG7Sx"
      },
      "execution_count": null,
      "outputs": []
    },
    {
      "cell_type": "markdown",
      "source": [
        "## División de datos"
      ],
      "metadata": {
        "id": "9SV-PzlOG7Sx"
      }
    },
    {
      "cell_type": "markdown",
      "source": [
        "### Sobremuestreo (OverSampling)"
      ],
      "metadata": {
        "id": "QBR3lxMuG7Sx"
      }
    },
    {
      "cell_type": "markdown",
      "source": [
        "Vamos a equilibrar nuestro conjunto de datos con un método simple: vamos a crear algunas muestras para la clase 'spam' para que tenga el mismo tamaño que la clase 'ham'. Este método se llama **Sobremuestreo**."
      ],
      "metadata": {
        "id": "FLDeD_G4G7Sx"
      }
    },
    {
      "cell_type": "code",
      "source": [
        "clas0,clas1=data[\"Category\"].value_counts()\n",
        "df0=data[data[\"Category\"]==0]\n",
        "df1=data[data[\"Category\"]==1]\n",
        "df1=df1.sample(clas0, replace=True)\n",
        "data = pd.concat([df0, df1])"
      ],
      "metadata": {
        "execution": {
          "iopub.status.busy": "2023-08-26T01:38:09.084309Z",
          "iopub.execute_input": "2023-08-26T01:38:09.084715Z",
          "iopub.status.idle": "2023-08-26T01:38:09.099401Z",
          "shell.execute_reply.started": "2023-08-26T01:38:09.084666Z",
          "shell.execute_reply": "2023-08-26T01:38:09.098156Z"
        },
        "trusted": true,
        "id": "UlhYk1FfG7Sy"
      },
      "execution_count": null,
      "outputs": []
    },
    {
      "cell_type": "code",
      "source": [
        "labels = data[\"Category\"]\n",
        "data = data[\"text\"]\n",
        "labels.value_counts()"
      ],
      "metadata": {
        "execution": {
          "iopub.status.busy": "2023-08-26T01:38:09.100584Z",
          "iopub.execute_input": "2023-08-26T01:38:09.101015Z",
          "iopub.status.idle": "2023-08-26T01:38:09.110868Z",
          "shell.execute_reply.started": "2023-08-26T01:38:09.100981Z",
          "shell.execute_reply": "2023-08-26T01:38:09.109878Z"
        },
        "trusted": true,
        "colab": {
          "base_uri": "https://localhost:8080/"
        },
        "id": "iKbhw5oTG7Sy",
        "outputId": "411d5e1d-2c6a-4d53-b1f5-f6740a952ab4"
      },
      "execution_count": null,
      "outputs": [
        {
          "output_type": "execute_result",
          "data": {
            "text/plain": [
              "0    4825\n",
              "1    4825\n",
              "Name: Category, dtype: int64"
            ]
          },
          "metadata": {},
          "execution_count": 14
        }
      ]
    },
    {
      "cell_type": "markdown",
      "source": [
        "Ahora dividimos los datos en conjuntos de entrenamiento y prueba para que podamos ajustar y evaluar nuestro modelo correctamente."
      ],
      "metadata": {
        "id": "ayJdEeI3G7Sy"
      }
    },
    {
      "cell_type": "code",
      "source": [
        "X_train, X_test, y_train, y_test = train_test_split(data, labels, test_size=0.2, random_state=42)"
      ],
      "metadata": {
        "execution": {
          "iopub.status.busy": "2023-08-26T01:38:09.112236Z",
          "iopub.execute_input": "2023-08-26T01:38:09.112573Z",
          "iopub.status.idle": "2023-08-26T01:38:09.123850Z",
          "shell.execute_reply.started": "2023-08-26T01:38:09.112530Z",
          "shell.execute_reply": "2023-08-26T01:38:09.122648Z"
        },
        "trusted": true,
        "id": "5RJJ0J7OG7Sy"
      },
      "execution_count": null,
      "outputs": []
    },
    {
      "cell_type": "markdown",
      "source": [
        "## Extracción de características( Feature Extraction)"
      ],
      "metadata": {
        "id": "et6n4fqUG7Sy"
      }
    },
    {
      "cell_type": "markdown",
      "source": [
        "### TF-ID Vectoriser"
      ],
      "metadata": {
        "id": "IPJR7fKPG7Sy"
      }
    },
    {
      "cell_type": "markdown",
      "source": [
        "La vectorización con TF-IDF (Term Frequency-Inverse Document Frequency) es un método en NLP que convierte texto a formato numérico y suele tener un buen rendimiento en la detección de spam porque tiene en cuenta la importancia de las palabras en función de su frecuencia en el documento y su rareza en todo el corpus. Esto puede ayudar a distinguir las palabras relevantes de las comunes que podrían no contribuir mucho a la tarea, lo que podría conducir a una mejor separación entre los mensajes legítimos y el spam."
      ],
      "metadata": {
        "id": "QK0ovCU0G7Sy"
      }
    },
    {
      "cell_type": "code",
      "source": [
        "tfid = TfidfVectorizer()\n",
        "X_train = tfid.fit_transform(X_train)\n",
        "X_test = tfid.transform(X_test)"
      ],
      "metadata": {
        "execution": {
          "iopub.status.busy": "2023-08-26T01:38:09.125106Z",
          "iopub.execute_input": "2023-08-26T01:38:09.126046Z",
          "iopub.status.idle": "2023-08-26T01:38:09.579220Z",
          "shell.execute_reply.started": "2023-08-26T01:38:09.126009Z",
          "shell.execute_reply": "2023-08-26T01:38:09.578015Z"
        },
        "trusted": true,
        "id": "Z6AAMHqYG7Sy"
      },
      "execution_count": null,
      "outputs": []
    },
    {
      "cell_type": "markdown",
      "source": [
        "## Modelos de entrenamiento\n",
        "\n",
        "Finalmente, aplicamos distintos modelos a los datos ya preparados."
      ],
      "metadata": {
        "id": "u_IpNyLbG7Sz"
      }
    },
    {
      "cell_type": "markdown",
      "source": [
        "### LogisticRegression"
      ],
      "metadata": {
        "id": "mf7SdQgTG7Sz"
      }
    },
    {
      "cell_type": "code",
      "source": [
        "lr = LogisticRegression()\n",
        "lr.fit(X_train,y_train)\n",
        "preds = lr.predict(X_test)\n",
        "print(accuracy_score(preds,y_test))"
      ],
      "metadata": {
        "execution": {
          "iopub.status.busy": "2023-08-26T01:38:09.580770Z",
          "iopub.execute_input": "2023-08-26T01:38:09.581122Z",
          "iopub.status.idle": "2023-08-26T01:38:09.677638Z",
          "shell.execute_reply.started": "2023-08-26T01:38:09.581092Z",
          "shell.execute_reply": "2023-08-26T01:38:09.676693Z"
        },
        "trusted": true,
        "colab": {
          "base_uri": "https://localhost:8080/"
        },
        "id": "PK1JsPP_G7Sz",
        "outputId": "090198f8-1892-424c-e1f8-afd5f16b9f01"
      },
      "execution_count": null,
      "outputs": [
        {
          "output_type": "stream",
          "name": "stdout",
          "text": [
            "0.9818652849740933\n"
          ]
        }
      ]
    },
    {
      "cell_type": "markdown",
      "source": [
        "### Decision Tree"
      ],
      "metadata": {
        "id": "ixh6XSd5G7Sz"
      }
    },
    {
      "cell_type": "code",
      "source": [
        "tree = DecisionTreeClassifier()\n",
        "tree.fit(X_train,y_train)\n",
        "preds = tree.predict(X_test)\n",
        "print(accuracy_score(preds,y_test))"
      ],
      "metadata": {
        "execution": {
          "iopub.status.busy": "2023-08-26T01:38:09.679054Z",
          "iopub.execute_input": "2023-08-26T01:38:09.679425Z",
          "iopub.status.idle": "2023-08-26T01:38:10.014399Z",
          "shell.execute_reply.started": "2023-08-26T01:38:09.679392Z",
          "shell.execute_reply": "2023-08-26T01:38:10.013647Z"
        },
        "trusted": true,
        "colab": {
          "base_uri": "https://localhost:8080/"
        },
        "id": "2PxV7VOOG7Sz",
        "outputId": "65670d38-d27d-43be-e80e-c5a631049014"
      },
      "execution_count": null,
      "outputs": [
        {
          "output_type": "stream",
          "name": "stdout",
          "text": [
            "0.9813471502590674\n"
          ]
        }
      ]
    },
    {
      "cell_type": "markdown",
      "source": [
        "### Random Forest"
      ],
      "metadata": {
        "id": "YbhJwxfSG7Sz"
      }
    },
    {
      "cell_type": "code",
      "source": [
        "forest = RandomForestClassifier()\n",
        "forest.fit(X_train,y_train)\n",
        "preds = forest.predict(X_test)\n",
        "print(accuracy_score(preds,y_test))"
      ],
      "metadata": {
        "execution": {
          "iopub.status.busy": "2023-08-26T01:38:10.015650Z",
          "iopub.execute_input": "2023-08-26T01:38:10.016917Z",
          "iopub.status.idle": "2023-08-26T01:38:12.569479Z",
          "shell.execute_reply.started": "2023-08-26T01:38:10.016840Z",
          "shell.execute_reply": "2023-08-26T01:38:12.568675Z"
        },
        "trusted": true,
        "colab": {
          "base_uri": "https://localhost:8080/"
        },
        "id": "3vOuXyrlG7S0",
        "outputId": "c2a94247-d342-4e60-edcd-5ea17651f9c6"
      },
      "execution_count": null,
      "outputs": [
        {
          "output_type": "stream",
          "name": "stdout",
          "text": [
            "0.9994818652849741\n"
          ]
        }
      ]
    },
    {
      "cell_type": "markdown",
      "source": [
        "### LightGBM"
      ],
      "metadata": {
        "id": "Fa2ev0qQG7S0"
      }
    },
    {
      "cell_type": "code",
      "source": [
        "clf = ltb.LGBMClassifier()\n",
        "clf.fit(X_train, y_train)\n",
        "preds = clf.predict(X_test)\n",
        "print(accuracy_score(preds,y_test))"
      ],
      "metadata": {
        "execution": {
          "iopub.status.busy": "2023-08-26T01:38:12.570855Z",
          "iopub.execute_input": "2023-08-26T01:38:12.571398Z",
          "iopub.status.idle": "2023-08-26T01:38:13.882599Z",
          "shell.execute_reply.started": "2023-08-26T01:38:12.571359Z",
          "shell.execute_reply": "2023-08-26T01:38:13.881416Z"
        },
        "trusted": true,
        "colab": {
          "base_uri": "https://localhost:8080/"
        },
        "id": "2NlW2F7sG7S0",
        "outputId": "f7df33b2-f122-4bf1-8158-915c76ef8ac4"
      },
      "execution_count": null,
      "outputs": [
        {
          "output_type": "stream",
          "name": "stdout",
          "text": [
            "[LightGBM] [Info] Number of positive: 3880, number of negative: 3840\n",
            "[LightGBM] [Warning] Auto-choosing row-wise multi-threading, the overhead of testing was 0.063165 seconds.\n",
            "You can set `force_row_wise=true` to remove the overhead.\n",
            "And if memory is not enough, you can set `force_col_wise=true`.\n",
            "[LightGBM] [Info] Total Bins 11814\n",
            "[LightGBM] [Info] Number of data points in the train set: 7720, number of used features: 739\n",
            "[LightGBM] [Info] [binary:BoostFromScore]: pavg=0.502591 -> initscore=0.010363\n",
            "[LightGBM] [Info] Start training from score 0.010363\n",
            "0.9937823834196892\n"
          ]
        }
      ]
    },
    {
      "cell_type": "markdown",
      "source": [
        "### Naive Bayes"
      ],
      "metadata": {
        "id": "JLHoz1vYG7S0"
      }
    },
    {
      "cell_type": "markdown",
      "source": [
        "Tenga en cuenta que vamos a convertir X_train y X_test en matrices porque Naive Bayes no admite datos dispersos creados por TFidVectoriser."
      ],
      "metadata": {
        "id": "PHL_bsfFG7S0"
      }
    },
    {
      "cell_type": "code",
      "source": [
        "naive = GaussianNB()\n",
        "naive.fit(X_train.toarray(), y_train)\n",
        "preds = naive.predict(X_test.toarray())\n",
        "print(accuracy_score(preds,y_test))"
      ],
      "metadata": {
        "execution": {
          "iopub.status.busy": "2023-08-26T01:38:13.884025Z",
          "iopub.execute_input": "2023-08-26T01:38:13.884451Z",
          "iopub.status.idle": "2023-08-26T01:38:15.234562Z",
          "shell.execute_reply.started": "2023-08-26T01:38:13.884408Z",
          "shell.execute_reply": "2023-08-26T01:38:15.233229Z"
        },
        "trusted": true,
        "colab": {
          "base_uri": "https://localhost:8080/"
        },
        "id": "9W_Kxc-3G7S0",
        "outputId": "5822b41a-d9b9-499c-9054-90cd62af0503"
      },
      "execution_count": null,
      "outputs": [
        {
          "output_type": "stream",
          "name": "stdout",
          "text": [
            "0.9404145077720207\n"
          ]
        }
      ]
    },
    {
      "cell_type": "markdown",
      "source": [
        "### Support Vector Machine"
      ],
      "metadata": {
        "id": "ZayWMO78G7S0"
      }
    },
    {
      "cell_type": "code",
      "source": [
        "SVM = SVC()\n",
        "SVM.fit(X_train, y_train)\n",
        "preds = SVM.predict(X_test)\n",
        "print(accuracy_score(preds,y_test))"
      ],
      "metadata": {
        "execution": {
          "iopub.status.busy": "2023-08-26T01:38:15.236069Z",
          "iopub.execute_input": "2023-08-26T01:38:15.236417Z",
          "iopub.status.idle": "2023-08-26T01:38:18.885256Z",
          "shell.execute_reply.started": "2023-08-26T01:38:15.236387Z",
          "shell.execute_reply": "2023-08-26T01:38:18.884068Z"
        },
        "trusted": true,
        "colab": {
          "base_uri": "https://localhost:8080/"
        },
        "id": "Ab4VQlAMG7S1",
        "outputId": "3f1033d8-068e-4868-d25b-d740ea7b160f"
      },
      "execution_count": null,
      "outputs": [
        {
          "output_type": "stream",
          "name": "stdout",
          "text": [
            "0.9984455958549223\n"
          ]
        }
      ]
    }
  ]
}