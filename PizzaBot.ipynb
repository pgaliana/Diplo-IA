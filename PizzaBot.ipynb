{
  "cells": [
    {
      "cell_type": "markdown",
      "id": "00b4f3c6-4a8e-4a1c-9a0b-48205b33ece1",
      "metadata": {
        "id": "00b4f3c6-4a8e-4a1c-9a0b-48205b33ece1"
      },
      "source": [
        "# PizzaBot\n",
        "\n",
        "## Un bot para un pizzería online."
      ]
    },
    {
      "cell_type": "code",
      "source": [
        "#!pip install openai\n",
        "#!pip install dotenv"
      ],
      "metadata": {
        "id": "H3VinOfzYSGX"
      },
      "id": "H3VinOfzYSGX",
      "execution_count": null,
      "outputs": []
    },
    {
      "cell_type": "code",
      "execution_count": null,
      "id": "6c947bab-414d-4a54-81f0-476e7b9421de",
      "metadata": {
        "tags": [],
        "id": "6c947bab-414d-4a54-81f0-476e7b9421de"
      },
      "outputs": [],
      "source": [
        "import os\n",
        "import openai\n",
        "# from dotenv import load_dotenv, find_dotenv\n",
        "# _ = load_dotenv(find_dotenv()) # read local .env file"
      ]
    },
    {
      "cell_type": "code",
      "execution_count": null,
      "id": "4b56cfc1-5913-487c-a8b0-9c661e4454d3",
      "metadata": {
        "jupyter": {
          "source_hidden": true
        },
        "tags": [],
        "id": "4b56cfc1-5913-487c-a8b0-9c661e4454d3"
      },
      "outputs": [],
      "source": [
        "# Ir a https://platform.openai.com/account/api-keys\n",
        "# Clic en \"Generate new secret key\", copiar y pegar en siguiente línea\n",
        "\n",
        "# Colocar la API key (secret key) aquí entre las comillas\n",
        "openai.api_key  = ''"
      ]
    },
    {
      "cell_type": "code",
      "execution_count": null,
      "id": "878fe860-d48f-4299-b790-e0244880580a",
      "metadata": {
        "id": "878fe860-d48f-4299-b790-e0244880580a"
      },
      "outputs": [],
      "source": [
        "def get_completion(prompt, model=\"gpt-3.5-turbo\"):\n",
        "    messages = [{\"role\": \"user\", \"content\": prompt}]\n",
        "    response = openai.ChatCompletion.create(\n",
        "        model=model,\n",
        "        messages=messages,\n",
        "        temperature=0, # this is the degree of randomness of the model's output\n",
        "    )\n",
        "    return response.choices[0].message[\"content\"]"
      ]
    },
    {
      "cell_type": "code",
      "execution_count": null,
      "id": "46eb9a03-b0f5-4ee3-9005-fa895f244a26",
      "metadata": {
        "id": "46eb9a03-b0f5-4ee3-9005-fa895f244a26"
      },
      "outputs": [],
      "source": [
        "def get_completion_from_messages(messages, model=\"gpt-3.5-turbo\", temperature=0):\n",
        "    response = openai.ChatCompletion.create(\n",
        "        model=model,\n",
        "        messages=messages,\n",
        "        temperature=temperature, # this is the degree of randomness of the model's output\n",
        "    )\n",
        "#     print(str(response.choices[0].message))\n",
        "    return response.choices[0].message[\"content\"]"
      ]
    },
    {
      "cell_type": "code",
      "execution_count": null,
      "id": "59847e0b-b760-4568-a10b-efd02b42a937",
      "metadata": {
        "id": "59847e0b-b760-4568-a10b-efd02b42a937"
      },
      "outputs": [],
      "source": [
        "# PizzaBot\n",
        "# Automatizar la recopilación de indicaciones de los usuarios y las respuestas de los asistentes\n",
        "# PizzaBot tomará pedidos en un restaurante de pizza.\n",
        "\n",
        "def collect_messages(_):\n",
        "    prompt = inp.value_input\n",
        "    inp.value = ''\n",
        "    context.append({'role':'user', 'content':f\"{prompt}\"})\n",
        "    response = get_completion_from_messages(context)\n",
        "    context.append({'role':'assistant', 'content':f\"{response}\"})\n",
        "    panels.append(\n",
        "        pn.Row('User:', pn.pane.Markdown(prompt, width=600)))\n",
        "    panels.append(\n",
        "        pn.Row('Assistant:', pn.pane.Markdown(response, width=600, style={'background-color': '#F6F6F6'})))\n",
        "\n",
        "    return pn.Column(*panels)"
      ]
    },
    {
      "cell_type": "code",
      "execution_count": null,
      "id": "4b77f3c8-6159-4915-a95c-7879a5b081de",
      "metadata": {
        "id": "4b77f3c8-6159-4915-a95c-7879a5b081de"
      },
      "outputs": [],
      "source": [
        "import panel as pn  # GUI\n",
        "pn.extension()\n",
        "\n",
        "panels = [] # collect display\n",
        "\n",
        "context = [ {'role':'system', 'content':\"\"\"\n",
        "Eres PizzaBot, un servicio automatizado de toma de pedidos para una pizzería. \\\n",
        "Primero saludas al cliente, luego recoges el pedido, \\\n",
        "y luego preguntas si se trata de pickup o delivery. \\\n",
        "Esperas a recoger todo el pedido, luego lo resumes y compruebas \\\n",
        "si el cliente quiere añadir algo más. \\\n",
        "Si es un delivery, pides una dirección. \\\n",
        "Finalmente cobras el pago.\\\n",
        "Asegúrate de aclarar todas las opciones, extras y tamaños para \\\n",
        "identificar el elemento del menú.\\\n",
        "Respondes en un estilo corto, amigable y muy conversacional. \\\n",
        "Si te hacen un pedido que no esté relacionado con la pizzería, contestas \\\n",
        "amablemente que no puedes cumplir el pedido. \\\n",
        "El menú incluye \\\n",
        "pizza de pepperoni 12.95, 10.00, 7.00 \\\n",
        "pizza de cuatro quesos 10.95, 9.25, 6.50 \\\n",
        "pizza fugazetta 11,95, 9,75, 6,75 \\\n",
        "papas fritas 4.50, 3.50 \\\n",
        "ensalada griega 7.25 \\\n",
        "Coberturas: \\\n",
        "queso extra 2.00, \\\n",
        "champiñones 1.50 \\\n",
        "salchichas 3.00 \\\n",
        "pimientos 1.00 \\\n",
        "Bebidas: \\\n",
        "coca cola 3.00, 2.00, 1.00 \\\n",
        "fanta 3.00, 2.00, 1.00 \\\n",
        "agua mineral 5.00 3.00 \\\n",
        "\"\"\"} ]  # accumulate messages"
      ]
    },
    {
      "cell_type": "code",
      "execution_count": null,
      "id": "12273223-4fbd-4c4d-8ba6-44457d4ebba4",
      "metadata": {
        "id": "12273223-4fbd-4c4d-8ba6-44457d4ebba4"
      },
      "outputs": [],
      "source": [
        "inp = pn.widgets.TextInput(value=\"Hola\", placeholder='Escribir aquí…')\n",
        "button_conversation = pn.widgets.Button(name=\"Chat!\")\n",
        "\n",
        "interactive_conversation = pn.bind(collect_messages, button_conversation)\n",
        "\n",
        "dashboard = pn.Column(\n",
        "    inp,\n",
        "    pn.Row(button_conversation),\n",
        "    pn.panel(interactive_conversation, loading_indicator=True, height=300),\n",
        ")\n",
        "\n",
        "dashboard"
      ]
    },
    {
      "cell_type": "markdown",
      "id": "64b42756-e566-401a-a9e4-aca1c208293c",
      "metadata": {
        "id": "64b42756-e566-401a-a9e4-aca1c208293c"
      },
      "source": [
        "# ------------------"
      ]
    },
    {
      "cell_type": "code",
      "execution_count": null,
      "id": "6c04cca1-d601-40e4-824c-487896c80d7d",
      "metadata": {
        "id": "6c04cca1-d601-40e4-824c-487896c80d7d"
      },
      "outputs": [],
      "source": []
    },
    {
      "cell_type": "code",
      "execution_count": null,
      "id": "4872e8e3-d727-4249-9f5c-ecd501ef2a2f",
      "metadata": {
        "id": "4872e8e3-d727-4249-9f5c-ecd501ef2a2f"
      },
      "outputs": [],
      "source": []
    },
    {
      "cell_type": "code",
      "execution_count": null,
      "id": "b6d2567a-6eee-4ba2-9919-18b79d175fb7",
      "metadata": {
        "id": "b6d2567a-6eee-4ba2-9919-18b79d175fb7"
      },
      "outputs": [],
      "source": []
    },
    {
      "cell_type": "code",
      "execution_count": null,
      "id": "6989cd15-d2ce-48de-81c8-74b63eec7ab4",
      "metadata": {
        "id": "6989cd15-d2ce-48de-81c8-74b63eec7ab4"
      },
      "outputs": [],
      "source": []
    },
    {
      "cell_type": "code",
      "execution_count": null,
      "id": "73675e1e-fe48-4019-b1fe-ebe15b33ffa0",
      "metadata": {
        "id": "73675e1e-fe48-4019-b1fe-ebe15b33ffa0"
      },
      "outputs": [],
      "source": []
    },
    {
      "cell_type": "code",
      "execution_count": null,
      "id": "b808ad91-c60c-40c7-b288-4f39f7208026",
      "metadata": {
        "id": "b808ad91-c60c-40c7-b288-4f39f7208026"
      },
      "outputs": [],
      "source": []
    },
    {
      "cell_type": "code",
      "execution_count": null,
      "id": "7158e4a9-5a6f-460b-8800-e2788a96f521",
      "metadata": {
        "id": "7158e4a9-5a6f-460b-8800-e2788a96f521"
      },
      "outputs": [],
      "source": []
    },
    {
      "cell_type": "code",
      "execution_count": null,
      "id": "f365b12d-09bf-4962-a140-6ae0636afba1",
      "metadata": {
        "id": "f365b12d-09bf-4962-a140-6ae0636afba1"
      },
      "outputs": [],
      "source": [
        "messages =  context.copy()\n",
        "messages.append(\n",
        "{'role':'system', 'content':'crea un resumen json del pedido de comida anterior. Detalle el precio de cada artículo\\\n",
        "  Los campos deben ser 1) pizza, incluir el tamaño 2) lista de ingredientes 3) lista de bebidas, incluir el tamaño 4) lista de acompañamientos, incluir el tamaño 5) precio total'},\n",
        ")\n",
        " #The fields should be 1) pizza, price 2) list of toppings 3) list of drinks, include size include price  4) list of sides include size include price, 5)total price '},\n",
        "\n",
        "response = get_completion_from_messages(messages, temperature=0)\n",
        "print(response)"
      ]
    }
  ],
  "metadata": {
    "kernelspec": {
      "display_name": "Python 3 (ipykernel)",
      "language": "python",
      "name": "python3"
    },
    "language_info": {
      "codemirror_mode": {
        "name": "ipython",
        "version": 3
      },
      "file_extension": ".py",
      "mimetype": "text/x-python",
      "name": "python",
      "nbconvert_exporter": "python",
      "pygments_lexer": "ipython3",
      "version": "3.9.13"
    },
    "colab": {
      "provenance": []
    }
  },
  "nbformat": 4,
  "nbformat_minor": 5
}